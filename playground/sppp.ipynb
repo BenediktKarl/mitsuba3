{
 "cells": [
  {
   "cell_type": "markdown",
   "metadata": {},
   "source": [
    "# NOTE\n",
    "This has nothing to do with the camera derivative.\n",
    "It tests the AD version primarily visible discontinuous derivatives."
   ]
  },
  {
   "cell_type": "code",
   "execution_count": 1,
   "metadata": {},
   "outputs": [],
   "source": [
    "import sys, os\n",
    "cwd_split = os.getcwd().split(os.sep)\n",
    "root = os.sep.join(cwd_split[:cwd_split.index('mitsuba-ADjacobian')])\n",
    "sys.path.insert(0, f\"{root}/mitsuba-ADjacobian/build/python\")"
   ]
  },
  {
   "cell_type": "code",
   "execution_count": 2,
   "metadata": {},
   "outputs": [],
   "source": [
    "import drjit as dr\n",
    "import mitsuba as mi\n",
    "import os\n",
    "\n",
    "from matplotlib import pyplot as plt\n",
    "import matplotlib.cm as cm\n",
    "import numpy as np\n",
    "\n",
    "mi.set_variant('cuda_ad_rgb')"
   ]
  },
  {
   "cell_type": "markdown",
   "metadata": {},
   "source": [
    "# Scene"
   ]
  },
  {
   "cell_type": "code",
   "execution_count": 3,
   "metadata": {},
   "outputs": [],
   "source": [
    "from mitsuba.scalar_rgb import Transform4f as T\n",
    "integrator = {\n",
    "    'type': 'direct_projective',\n",
    "    'guiding': 'none',\n",
    "    'sppp': 1,\n",
    "    'sppi': 0\n",
    "}\n",
    "\n",
    "img_size = 100\n",
    "\n",
    "sensor_to_world = T.look_at(\n",
    "                        origin=(0, 0, 2),\n",
    "                        target=(0, 0, 0),\n",
    "                        up=(0, 1, 0)\n",
    "                    )\n",
    "original_trafo = T.translate([-0.4, 0, 1]).scale(0.4)\n",
    "\n",
    "scene = mi.load_dict({\n",
    "    'type': 'scene',\n",
    "    'integrator': integrator,\n",
    "    'sensor':  {\n",
    "        'type': 'perspective',\n",
    "        'to_world': sensor_to_world,\n",
    "        'fov': 90,\n",
    "        'film': {\n",
    "            'type': 'hdrfilm',\n",
    "            'width': img_size,\n",
    "            'height': img_size,\n",
    "            # 'rfilter': { 'type': 'gaussian' },\n",
    "            # 'rfilter': {'type': 'tent', 'radius': 1},\n",
    "            'rfilter': {'type': 'box'},\n",
    "            'sample_border': True\n",
    "        },\n",
    "    },\n",
    "    'wall': {\n",
    "        'type': 'rectangle',\n",
    "        'to_world': T.translate([0, 0, 0]).scale(2),\n",
    "        'bsdf': {\n",
    "            'type': 'diffuse',\n",
    "            'reflectance': { 'type': 'rgb', 'value': (0.5, 0.5, 0.5) },\n",
    "        },\n",
    "        'emitter': {\n",
    "            'type': 'area',\n",
    "            'radiance': {'type': 'rgb', 'value': [1, 0, 0]}\n",
    "        },\n",
    "    },\n",
    "    'block': {\n",
    "        # 'type': 'disk',\n",
    "        'type': 'sphere',\n",
    "        # 'type': 'rectangle',\n",
    "        'to_world': original_trafo,\n",
    "        'bsdf': {\n",
    "            'type': 'diffuse'\n",
    "        },\n",
    "        'emitter': {\n",
    "            'type': 'area',\n",
    "            'radiance': {'type': 'rgb', 'value': [0, 0, 1]}\n",
    "        },\n",
    "    },\n",
    "    # 'light': {\n",
    "    #     'type': 'disk',\n",
    "    #     'emitter': {\n",
    "    #         'type': 'area',\n",
    "    #         'radiance': {'type': 'rgb', 'value': [10, 10, 10]}\n",
    "    #     },\n",
    "    #     'to_world': T.look_at(\n",
    "    #                     origin=(1, 1, 3),\n",
    "    #                     target=(0, 0, 0),\n",
    "    #                     up=(0, 1, 0)\n",
    "    #                 ).scale(0.5),\n",
    "    # }\n",
    "})"
   ]
  },
  {
   "cell_type": "code",
   "execution_count": 4,
   "metadata": {},
   "outputs": [],
   "source": [
    "params = mi.traverse(scene)\n",
    "key = 'block.to_world'\n",
    "\n",
    "def apply_trafo(params, value):\n",
    "    trafo = mi.Transform4f.translate([value, 0.0, 0.0])\n",
    "    # trafo = mi.Transform4f.translate([0.0, 0.0, 0.0]).rotate([0, 0, 1], value)\n",
    "    # trafo = mi.Transform4f.translate([0.0, 0.0, value])\n",
    "\n",
    "    params[key] = trafo @ original_trafo\n",
    "    params.update()"
   ]
  },
  {
   "cell_type": "code",
   "execution_count": 5,
   "metadata": {},
   "outputs": [],
   "source": [
    "img_ref = mi.render(scene, seed=0, spp=1024)\n",
    "mi.Bitmap(img_ref).write(\"output/primal.exr\")"
   ]
  },
  {
   "cell_type": "markdown",
   "metadata": {},
   "source": [
    "# Gradient"
   ]
  },
  {
   "cell_type": "code",
   "execution_count": 6,
   "metadata": {},
   "outputs": [
    {
     "name": "stdout",
     "output_type": "stream",
     "text": [
      "16/16\r"
     ]
    }
   ],
   "source": [
    "# Finite differences\n",
    "def fd(epsilon=1e-3):\n",
    "    fd_spp = 512\n",
    "    fd_repeat = 16\n",
    "\n",
    "    img1 = dr.zeros(mi.TensorXf, (img_size, img_size, 3))\n",
    "    img2 = dr.zeros(mi.TensorXf, (img_size, img_size, 3))\n",
    "\n",
    "    for it in range(fd_repeat):\n",
    "        apply_trafo(params, -epsilon)\n",
    "        img1 += mi.render(scene, spp=fd_spp, seed=it)\n",
    "        params.update()\n",
    "\n",
    "        apply_trafo(params, +epsilon)\n",
    "        img2 += mi.render(scene, spp=fd_spp, seed=it)\n",
    "        params.update()\n",
    "\n",
    "        print(f\"{it+1}/{fd_repeat}\", end='\\r')\n",
    "\n",
    "    img_fd = (img2 - img1) / (epsilon*2) / fd_repeat\n",
    "    # mi.Bitmap(img1 / fd_repeat).write(\"output/img1.exr\")\n",
    "    # mi.Bitmap(img2 / fd_repeat).write(\"output/img2.exr\")\n",
    "\n",
    "    return img_fd\n",
    "\n",
    "if True:\n",
    "    epsilon = 5e-4\n",
    "    mi.Bitmap(fd(epsilon)).write(\"output/grad_fd_%.0e.exr\" % epsilon)\n",
    "\n",
    "    epsilon = 1e-3\n",
    "    mi.Bitmap(fd(epsilon)).write(\"output/grad_fd_%.0e.exr\" % epsilon)"
   ]
  },
  {
   "cell_type": "markdown",
   "metadata": {},
   "source": [
    "# Boundary sample"
   ]
  },
  {
   "cell_type": "code",
   "execution_count": 7,
   "metadata": {},
   "outputs": [],
   "source": [
    "x = mi.Float(0.0)\n",
    "dr.enable_grad(x)\n",
    "apply_trafo(params, x)\n",
    "dr.forward(x, dr.ADFlag.ClearEdges)\n",
    "\n",
    "image = mi.render(scene, params = params, spp=1024)"
   ]
  },
  {
   "cell_type": "code",
   "execution_count": 8,
   "metadata": {},
   "outputs": [
    {
     "name": "stdout",
     "output_type": "stream",
     "text": [
      "J = [0.62864566 0.5893525  0.3077087  0.25282583 0.27613705 0.4433207\n",
      " 0.25185633 0.38872793 0.65612185 0.26143536 0.65677226 0.2854114\n",
      " 0.6581517  0.57298094 0.38997972 0.36390507 0.657116   0.25784633\n",
      " 0.251079   0.38299975 0.60559    0.6400774  0.26260576 0.37100923\n",
      " 0.4525558  0.5397115  0.47746295 0.6463558  0.3494778  0.25000706\n",
      " 0.656369   0.53892267 0.46158892 0.25781158 0.26863596 0.63479525\n",
      " 0.30057678 0.3161792  0.65596604 0.25000578 0.31092548 0.6206913\n",
      " 0.3890466  0.3727904  0.38685915 0.52068186 0.2594773  0.32466695\n",
      " 0.41065055 0.26282018 0.25740623 0.54286814 0.25705132 0.6550283\n",
      " 0.37034583 0.26093337 0.2997377  0.3614077  0.63774884 0.3961431\n",
      " 0.34004024 0.29251304 0.27874732 0.5674615  0.26106587 0.64998376\n",
      " 0.61154234 0.32855406 0.4758131  0.25251317 0.56440204 0.25426444\n",
      " 0.2997741  0.4184369  0.5973702  0.26379946 0.27945697 0.25543705\n",
      " 0.42026386 0.4612712  0.65606284 0.5079735  0.36546296 0.38931686\n",
      " 0.6474632  0.32292584 0.25703087 0.37586188 0.37100565 0.4054094\n",
      " 0.27286628 0.28077483 0.25617737 0.27309164 0.2570782  0.30870757\n",
      " 0.5974431  0.25485826 0.44874823 0.5664126 ]\n",
      "J2 = [0.6221947  0.57945544 0.30721563 0.2528254  0.27596202 0.434809\n",
      " 0.2518472  0.38503587 0.65574545 0.26141948 0.6563343  0.28532773\n",
      " 0.65813816 0.5607399  0.3863107  0.36052868 0.65691406 0.2578212\n",
      " 0.25096637 0.3791629  0.59695196 0.63589877 0.26259708 0.36800197\n",
      " 0.4456245  0.52687716 0.46709472 0.6434583  0.3473254  0.25000638\n",
      " 0.65573764 0.5268411  0.45403805 0.2577921  0.2685723  0.629748\n",
      " 0.3002624  0.31565043 0.65532476 0.24986763 0.3100671  0.612837\n",
      " 0.38558134 0.36844447 0.38219756 0.51054007 0.2594412  0.32374108\n",
      " 0.40540856 0.2628011  0.257397   0.5302341  0.25704485 0.65402436\n",
      " 0.367474   0.26082027 0.29915982 0.35896313 0.6333696  0.39308438\n",
      " 0.33898303 0.292257   0.2787124  0.5555549  0.26104638 0.64725536\n",
      " 0.60242015 0.32770932 0.46805972 0.25246078 0.5521728  0.25422227\n",
      " 0.29894486 0.41296437 0.5875733  0.2637787  0.2794141  0.25535005\n",
      " 0.41465366 0.453389   0.65546083 0.49745318 0.3631525  0.38540837\n",
      " 0.6446769  0.32216877 0.2570227  0.37330583 0.36812812 0.3995037\n",
      " 0.27278185 0.2807234  0.25617003 0.2730581  0.25707492 0.30780935\n",
      " 0.5873758  0.25484908 0.44203252 0.55577517]\n"
     ]
    }
   ],
   "source": [
    "img_guided = dr.forward_to(image)\n",
    "mi.Bitmap(img_guided).write(\"output/grad.exr\")"
   ]
  },
  {
   "cell_type": "code",
   "execution_count": null,
   "metadata": {},
   "outputs": [],
   "source": []
  }
 ],
 "metadata": {
  "kernelspec": {
   "display_name": "mi",
   "language": "python",
   "name": "python3"
  },
  "language_info": {
   "codemirror_mode": {
    "name": "ipython",
    "version": 3
   },
   "file_extension": ".py",
   "mimetype": "text/x-python",
   "name": "python",
   "nbconvert_exporter": "python",
   "pygments_lexer": "ipython3",
   "version": "3.8.16"
  }
 },
 "nbformat": 4,
 "nbformat_minor": 2
}
